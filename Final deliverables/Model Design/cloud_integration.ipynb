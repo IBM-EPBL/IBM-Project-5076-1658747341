{
 "cells": [
  {
   "cell_type": "code",
   "execution_count": 110,
   "metadata": {
    "id": "bfrMxN-Aj3ht"
   },
   "outputs": [],
   "source": [
    "import pandas as pd \n",
    "import numpy as np\n",
    "import matplotlib.pyplot as plt\n",
    "import seaborn as sns\n",
    "import statsmodels.formula.api as smf"
   ]
  },
  {
   "cell_type": "code",
   "execution_count": 111,
   "metadata": {},
   "outputs": [
    {
     "data": {
      "text/html": [
       "<div>\n",
       "<style scoped>\n",
       "    .dataframe tbody tr th:only-of-type {\n",
       "        vertical-align: middle;\n",
       "    }\n",
       "\n",
       "    .dataframe tbody tr th {\n",
       "        vertical-align: top;\n",
       "    }\n",
       "\n",
       "    .dataframe thead th {\n",
       "        text-align: right;\n",
       "    }\n",
       "</style>\n",
       "<table border=\"1\" class=\"dataframe\">\n",
       "  <thead>\n",
       "    <tr style=\"text-align: right;\">\n",
       "      <th></th>\n",
       "      <th>mpg</th>\n",
       "      <th>cylinders</th>\n",
       "      <th>displacement</th>\n",
       "      <th>horsepower</th>\n",
       "      <th>weight</th>\n",
       "      <th>acceleration</th>\n",
       "      <th>model year</th>\n",
       "      <th>origin</th>\n",
       "      <th>car name</th>\n",
       "    </tr>\n",
       "  </thead>\n",
       "  <tbody>\n",
       "    <tr>\n",
       "      <th>0</th>\n",
       "      <td>18.0</td>\n",
       "      <td>8</td>\n",
       "      <td>307.0</td>\n",
       "      <td>130</td>\n",
       "      <td>3504</td>\n",
       "      <td>12.0</td>\n",
       "      <td>70</td>\n",
       "      <td>1</td>\n",
       "      <td>chevrolet chevelle malibu</td>\n",
       "    </tr>\n",
       "    <tr>\n",
       "      <th>1</th>\n",
       "      <td>15.0</td>\n",
       "      <td>8</td>\n",
       "      <td>350.0</td>\n",
       "      <td>165</td>\n",
       "      <td>3693</td>\n",
       "      <td>11.5</td>\n",
       "      <td>70</td>\n",
       "      <td>1</td>\n",
       "      <td>buick skylark 320</td>\n",
       "    </tr>\n",
       "    <tr>\n",
       "      <th>2</th>\n",
       "      <td>18.0</td>\n",
       "      <td>8</td>\n",
       "      <td>318.0</td>\n",
       "      <td>150</td>\n",
       "      <td>3436</td>\n",
       "      <td>11.0</td>\n",
       "      <td>70</td>\n",
       "      <td>1</td>\n",
       "      <td>plymouth satellite</td>\n",
       "    </tr>\n",
       "    <tr>\n",
       "      <th>3</th>\n",
       "      <td>16.0</td>\n",
       "      <td>8</td>\n",
       "      <td>304.0</td>\n",
       "      <td>150</td>\n",
       "      <td>3433</td>\n",
       "      <td>12.0</td>\n",
       "      <td>70</td>\n",
       "      <td>1</td>\n",
       "      <td>amc rebel sst</td>\n",
       "    </tr>\n",
       "    <tr>\n",
       "      <th>4</th>\n",
       "      <td>17.0</td>\n",
       "      <td>8</td>\n",
       "      <td>302.0</td>\n",
       "      <td>140</td>\n",
       "      <td>3449</td>\n",
       "      <td>10.5</td>\n",
       "      <td>70</td>\n",
       "      <td>1</td>\n",
       "      <td>ford torino</td>\n",
       "    </tr>\n",
       "  </tbody>\n",
       "</table>\n",
       "</div>"
      ],
      "text/plain": [
       "    mpg  cylinders  displacement  horsepower  weight  acceleration  \\\n",
       "0  18.0          8         307.0         130    3504          12.0   \n",
       "1  15.0          8         350.0         165    3693          11.5   \n",
       "2  18.0          8         318.0         150    3436          11.0   \n",
       "3  16.0          8         304.0         150    3433          12.0   \n",
       "4  17.0          8         302.0         140    3449          10.5   \n",
       "\n",
       "   model year  origin                   car name  \n",
       "0          70       1  chevrolet chevelle malibu  \n",
       "1          70       1          buick skylark 320  \n",
       "2          70       1         plymouth satellite  \n",
       "3          70       1              amc rebel sst  \n",
       "4          70       1                ford torino  "
      ]
     },
     "execution_count": 111,
     "metadata": {},
     "output_type": "execute_result"
    }
   ],
   "source": [
    "\n",
    "import os, types\n",
    "from botocore.client import Config\n",
    "import ibm_boto3\n",
    "\n",
    "def __iter__(self): return 0\n",
    "\n",
    "\n",
    "cos_client = ibm_boto3.client(service_name='s3',\n",
    "    ibm_api_key_id='bmTZ1tDihoDNN3IgTrgFVwo7l1Lgc9kntdKX4gUvHR1x',\n",
    "    ibm_auth_endpoint=\"https://iam.cloud.ibm.com/oidc/token\",\n",
    "    config=Config(signature_version='oauth'),\n",
    "    endpoint_url='https://s3.private.us.cloud-object-storage.appdomain.cloud')\n",
    "\n",
    "bucket = 'vehicleperformanceanalyzer-donotdelete-pr-vbny2haofpbejk'\n",
    "object_key = 'Car_Performance.csv'\n",
    "\n",
    "body = cos_client.get_object(Bucket=bucket,Key=object_key)['Body']\n",
    "\n",
    "if not hasattr(body, \"__iter__\"): body.__iter__ = types.MethodType( __iter__, body )\n",
    "\n",
    "dataset = pd.read_csv(body)\n",
    "dataset.head()\n"
   ]
  },
  {
   "cell_type": "code",
   "execution_count": 112,
   "metadata": {
    "colab": {
     "base_uri": "https://localhost:8080/"
    },
    "id": "VYyxkj4-j3hu",
    "outputId": "6245ac59-bd47-400b-8d65-c702dd6c4d85",
    "scrolled": false
   },
   "outputs": [
    {
     "data": {
      "text/plain": [
       "mpg             False\n",
       "cylinders       False\n",
       "displacement    False\n",
       "horsepower      False\n",
       "weight          False\n",
       "acceleration    False\n",
       "model year      False\n",
       "origin          False\n",
       "car name        False\n",
       "dtype: bool"
      ]
     },
     "execution_count": 112,
     "metadata": {},
     "output_type": "execute_result"
    }
   ],
   "source": [
    "dataset.isnull().any()"
   ]
  },
  {
   "cell_type": "markdown",
   "metadata": {
    "id": "iSYqvgSrj3hu"
   },
   "source": [
    "There are no null characters in the columns but there is a special character '?' in the 'horsepower' column. So we we replaced '?' with nan and replaced nan values with mean of the column."
   ]
  },
  {
   "cell_type": "code",
   "execution_count": 113,
   "metadata": {
    "id": "rXdqOMpUj3hu"
   },
   "outputs": [],
   "source": [
    "dataset['horsepower']=dataset['horsepower'].replace('?',np.nan)\n"
   ]
  },
  {
   "cell_type": "code",
   "execution_count": 114,
   "metadata": {
    "colab": {
     "base_uri": "https://localhost:8080/"
    },
    "id": "5BolDp8aj3hv",
    "outputId": "4a52eecb-388d-40b2-d3e4-7eb9de4b03c3"
   },
   "outputs": [
    {
     "data": {
      "text/plain": [
       "0"
      ]
     },
     "execution_count": 114,
     "metadata": {},
     "output_type": "execute_result"
    }
   ],
   "source": [
    "dataset['horsepower'].isnull().sum()"
   ]
  },
  {
   "cell_type": "code",
   "execution_count": 115,
   "metadata": {
    "id": "_mI_rFUdj3hv"
   },
   "outputs": [],
   "source": [
    "dataset['horsepower']=dataset['horsepower'].astype('float64')"
   ]
  },
  {
   "cell_type": "code",
   "execution_count": 116,
   "metadata": {
    "id": "zQSwqtKMj3hv"
   },
   "outputs": [],
   "source": [
    "dataset['horsepower'].fillna((dataset['horsepower'].mean()),inplace=True)"
   ]
  },
  {
   "cell_type": "code",
   "execution_count": 117,
   "metadata": {
    "colab": {
     "base_uri": "https://localhost:8080/"
    },
    "id": "dA9-Wvujj3hv",
    "outputId": "c7b8abad-b5f9-4f0f-bf07-948e5706577b"
   },
   "outputs": [
    {
     "data": {
      "text/plain": [
       "mpg             False\n",
       "cylinders       False\n",
       "displacement    False\n",
       "horsepower      False\n",
       "weight          False\n",
       "acceleration    False\n",
       "model year      False\n",
       "origin          False\n",
       "car name        False\n",
       "dtype: bool"
      ]
     },
     "execution_count": 117,
     "metadata": {},
     "output_type": "execute_result"
    }
   ],
   "source": [
    "dataset.isnull().any()"
   ]
  },
  {
   "cell_type": "code",
   "execution_count": 118,
   "metadata": {
    "colab": {
     "base_uri": "https://localhost:8080/"
    },
    "id": "OWxZHJcHj3hv",
    "outputId": "d451a644-2a18-437a-a9ff-89e61d2e556c",
    "scrolled": true
   },
   "outputs": [
    {
     "name": "stdout",
     "output_type": "stream",
     "text": [
      "<class 'pandas.core.frame.DataFrame'>\n",
      "RangeIndex: 398 entries, 0 to 397\n",
      "Data columns (total 9 columns):\n",
      " #   Column        Non-Null Count  Dtype  \n",
      "---  ------        --------------  -----  \n",
      " 0   mpg           398 non-null    float64\n",
      " 1   cylinders     398 non-null    int64  \n",
      " 2   displacement  398 non-null    float64\n",
      " 3   horsepower    398 non-null    float64\n",
      " 4   weight        398 non-null    int64  \n",
      " 5   acceleration  398 non-null    float64\n",
      " 6   model year    398 non-null    int64  \n",
      " 7   origin        398 non-null    int64  \n",
      " 8   car name      398 non-null    object \n",
      "dtypes: float64(4), int64(4), object(1)\n",
      "memory usage: 28.1+ KB\n"
     ]
    }
   ],
   "source": [
    "dataset.info() #Pandas dataframe.info() function is used to get a quick overview of the dataset.\n"
   ]
  },
  {
   "cell_type": "code",
   "execution_count": 119,
   "metadata": {
    "colab": {
     "base_uri": "https://localhost:8080/",
     "height": 300
    },
    "id": "PsjP_js2j3hw",
    "outputId": "61a4e979-da6f-40c4-98d5-286b1490f1a2"
   },
   "outputs": [
    {
     "data": {
      "text/html": [
       "<div>\n",
       "<style scoped>\n",
       "    .dataframe tbody tr th:only-of-type {\n",
       "        vertical-align: middle;\n",
       "    }\n",
       "\n",
       "    .dataframe tbody tr th {\n",
       "        vertical-align: top;\n",
       "    }\n",
       "\n",
       "    .dataframe thead th {\n",
       "        text-align: right;\n",
       "    }\n",
       "</style>\n",
       "<table border=\"1\" class=\"dataframe\">\n",
       "  <thead>\n",
       "    <tr style=\"text-align: right;\">\n",
       "      <th></th>\n",
       "      <th>mpg</th>\n",
       "      <th>cylinders</th>\n",
       "      <th>displacement</th>\n",
       "      <th>horsepower</th>\n",
       "      <th>weight</th>\n",
       "      <th>acceleration</th>\n",
       "      <th>model year</th>\n",
       "      <th>origin</th>\n",
       "    </tr>\n",
       "  </thead>\n",
       "  <tbody>\n",
       "    <tr>\n",
       "      <th>count</th>\n",
       "      <td>398.000000</td>\n",
       "      <td>398.000000</td>\n",
       "      <td>398.000000</td>\n",
       "      <td>398.000000</td>\n",
       "      <td>398.000000</td>\n",
       "      <td>398.000000</td>\n",
       "      <td>398.000000</td>\n",
       "      <td>398.000000</td>\n",
       "    </tr>\n",
       "    <tr>\n",
       "      <th>mean</th>\n",
       "      <td>23.514573</td>\n",
       "      <td>5.454774</td>\n",
       "      <td>193.425879</td>\n",
       "      <td>104.165829</td>\n",
       "      <td>2970.424623</td>\n",
       "      <td>15.568090</td>\n",
       "      <td>76.010050</td>\n",
       "      <td>1.572864</td>\n",
       "    </tr>\n",
       "    <tr>\n",
       "      <th>std</th>\n",
       "      <td>7.815984</td>\n",
       "      <td>1.701004</td>\n",
       "      <td>104.269838</td>\n",
       "      <td>38.298676</td>\n",
       "      <td>846.841774</td>\n",
       "      <td>2.757689</td>\n",
       "      <td>3.697627</td>\n",
       "      <td>0.802055</td>\n",
       "    </tr>\n",
       "    <tr>\n",
       "      <th>min</th>\n",
       "      <td>9.000000</td>\n",
       "      <td>3.000000</td>\n",
       "      <td>68.000000</td>\n",
       "      <td>46.000000</td>\n",
       "      <td>1613.000000</td>\n",
       "      <td>8.000000</td>\n",
       "      <td>70.000000</td>\n",
       "      <td>1.000000</td>\n",
       "    </tr>\n",
       "    <tr>\n",
       "      <th>25%</th>\n",
       "      <td>17.500000</td>\n",
       "      <td>4.000000</td>\n",
       "      <td>104.250000</td>\n",
       "      <td>75.000000</td>\n",
       "      <td>2223.750000</td>\n",
       "      <td>13.825000</td>\n",
       "      <td>73.000000</td>\n",
       "      <td>1.000000</td>\n",
       "    </tr>\n",
       "    <tr>\n",
       "      <th>50%</th>\n",
       "      <td>23.000000</td>\n",
       "      <td>4.000000</td>\n",
       "      <td>148.500000</td>\n",
       "      <td>92.000000</td>\n",
       "      <td>2803.500000</td>\n",
       "      <td>15.500000</td>\n",
       "      <td>76.000000</td>\n",
       "      <td>1.000000</td>\n",
       "    </tr>\n",
       "    <tr>\n",
       "      <th>75%</th>\n",
       "      <td>29.000000</td>\n",
       "      <td>8.000000</td>\n",
       "      <td>262.000000</td>\n",
       "      <td>125.000000</td>\n",
       "      <td>3608.000000</td>\n",
       "      <td>17.175000</td>\n",
       "      <td>79.000000</td>\n",
       "      <td>2.000000</td>\n",
       "    </tr>\n",
       "    <tr>\n",
       "      <th>max</th>\n",
       "      <td>46.600000</td>\n",
       "      <td>8.000000</td>\n",
       "      <td>455.000000</td>\n",
       "      <td>230.000000</td>\n",
       "      <td>5140.000000</td>\n",
       "      <td>24.800000</td>\n",
       "      <td>82.000000</td>\n",
       "      <td>3.000000</td>\n",
       "    </tr>\n",
       "  </tbody>\n",
       "</table>\n",
       "</div>"
      ],
      "text/plain": [
       "              mpg   cylinders  displacement  horsepower       weight  \\\n",
       "count  398.000000  398.000000    398.000000  398.000000   398.000000   \n",
       "mean    23.514573    5.454774    193.425879  104.165829  2970.424623   \n",
       "std      7.815984    1.701004    104.269838   38.298676   846.841774   \n",
       "min      9.000000    3.000000     68.000000   46.000000  1613.000000   \n",
       "25%     17.500000    4.000000    104.250000   75.000000  2223.750000   \n",
       "50%     23.000000    4.000000    148.500000   92.000000  2803.500000   \n",
       "75%     29.000000    8.000000    262.000000  125.000000  3608.000000   \n",
       "max     46.600000    8.000000    455.000000  230.000000  5140.000000   \n",
       "\n",
       "       acceleration  model year      origin  \n",
       "count    398.000000  398.000000  398.000000  \n",
       "mean      15.568090   76.010050    1.572864  \n",
       "std        2.757689    3.697627    0.802055  \n",
       "min        8.000000   70.000000    1.000000  \n",
       "25%       13.825000   73.000000    1.000000  \n",
       "50%       15.500000   76.000000    1.000000  \n",
       "75%       17.175000   79.000000    2.000000  \n",
       "max       24.800000   82.000000    3.000000  "
      ]
     },
     "execution_count": 119,
     "metadata": {},
     "output_type": "execute_result"
    }
   ],
   "source": [
    "dataset.describe() #Pandas describe() is used to view some basic statistical details of a data frame or a series of numeric values."
   ]
  },
  {
   "cell_type": "markdown",
   "metadata": {
    "id": "O9QHKlu0j3hw"
   },
   "source": [
    "There is no use with car name attribute so drop it"
   ]
  },
  {
   "cell_type": "code",
   "execution_count": 120,
   "metadata": {
    "id": "56pzEJi7j3hw"
   },
   "outputs": [],
   "source": [
    "dataset=dataset.drop('car name',axis=1) #dropping the unwanted column."
   ]
  },
  {
   "cell_type": "code",
   "execution_count": 121,
   "metadata": {
    "colab": {
     "base_uri": "https://localhost:8080/",
     "height": 300
    },
    "id": "P9dastNkj3hw",
    "outputId": "721b0aa9-e3d1-49e6-887b-1e58ba1b66c5"
   },
   "outputs": [
    {
     "data": {
      "text/html": [
       "<div>\n",
       "<style scoped>\n",
       "    .dataframe tbody tr th:only-of-type {\n",
       "        vertical-align: middle;\n",
       "    }\n",
       "\n",
       "    .dataframe tbody tr th {\n",
       "        vertical-align: top;\n",
       "    }\n",
       "\n",
       "    .dataframe thead th {\n",
       "        text-align: right;\n",
       "    }\n",
       "</style>\n",
       "<table border=\"1\" class=\"dataframe\">\n",
       "  <thead>\n",
       "    <tr style=\"text-align: right;\">\n",
       "      <th></th>\n",
       "      <th>mpg</th>\n",
       "      <th>cylinders</th>\n",
       "      <th>displacement</th>\n",
       "      <th>horsepower</th>\n",
       "      <th>weight</th>\n",
       "      <th>acceleration</th>\n",
       "      <th>model year</th>\n",
       "      <th>origin</th>\n",
       "    </tr>\n",
       "  </thead>\n",
       "  <tbody>\n",
       "    <tr>\n",
       "      <th>mpg</th>\n",
       "      <td>1.000000</td>\n",
       "      <td>-0.775396</td>\n",
       "      <td>-0.804203</td>\n",
       "      <td>-0.777501</td>\n",
       "      <td>-0.831741</td>\n",
       "      <td>0.420289</td>\n",
       "      <td>0.579267</td>\n",
       "      <td>0.563450</td>\n",
       "    </tr>\n",
       "    <tr>\n",
       "      <th>cylinders</th>\n",
       "      <td>-0.775396</td>\n",
       "      <td>1.000000</td>\n",
       "      <td>0.950721</td>\n",
       "      <td>0.842437</td>\n",
       "      <td>0.896017</td>\n",
       "      <td>-0.505419</td>\n",
       "      <td>-0.348746</td>\n",
       "      <td>-0.562543</td>\n",
       "    </tr>\n",
       "    <tr>\n",
       "      <th>displacement</th>\n",
       "      <td>-0.804203</td>\n",
       "      <td>0.950721</td>\n",
       "      <td>1.000000</td>\n",
       "      <td>0.897082</td>\n",
       "      <td>0.932824</td>\n",
       "      <td>-0.543684</td>\n",
       "      <td>-0.370164</td>\n",
       "      <td>-0.609409</td>\n",
       "    </tr>\n",
       "    <tr>\n",
       "      <th>horsepower</th>\n",
       "      <td>-0.777501</td>\n",
       "      <td>0.842437</td>\n",
       "      <td>0.897082</td>\n",
       "      <td>1.000000</td>\n",
       "      <td>0.863990</td>\n",
       "      <td>-0.686436</td>\n",
       "      <td>-0.417081</td>\n",
       "      <td>-0.452386</td>\n",
       "    </tr>\n",
       "    <tr>\n",
       "      <th>weight</th>\n",
       "      <td>-0.831741</td>\n",
       "      <td>0.896017</td>\n",
       "      <td>0.932824</td>\n",
       "      <td>0.863990</td>\n",
       "      <td>1.000000</td>\n",
       "      <td>-0.417457</td>\n",
       "      <td>-0.306564</td>\n",
       "      <td>-0.581024</td>\n",
       "    </tr>\n",
       "    <tr>\n",
       "      <th>acceleration</th>\n",
       "      <td>0.420289</td>\n",
       "      <td>-0.505419</td>\n",
       "      <td>-0.543684</td>\n",
       "      <td>-0.686436</td>\n",
       "      <td>-0.417457</td>\n",
       "      <td>1.000000</td>\n",
       "      <td>0.288137</td>\n",
       "      <td>0.205873</td>\n",
       "    </tr>\n",
       "    <tr>\n",
       "      <th>model year</th>\n",
       "      <td>0.579267</td>\n",
       "      <td>-0.348746</td>\n",
       "      <td>-0.370164</td>\n",
       "      <td>-0.417081</td>\n",
       "      <td>-0.306564</td>\n",
       "      <td>0.288137</td>\n",
       "      <td>1.000000</td>\n",
       "      <td>0.180662</td>\n",
       "    </tr>\n",
       "    <tr>\n",
       "      <th>origin</th>\n",
       "      <td>0.563450</td>\n",
       "      <td>-0.562543</td>\n",
       "      <td>-0.609409</td>\n",
       "      <td>-0.452386</td>\n",
       "      <td>-0.581024</td>\n",
       "      <td>0.205873</td>\n",
       "      <td>0.180662</td>\n",
       "      <td>1.000000</td>\n",
       "    </tr>\n",
       "  </tbody>\n",
       "</table>\n",
       "</div>"
      ],
      "text/plain": [
       "                   mpg  cylinders  displacement  horsepower    weight  \\\n",
       "mpg           1.000000  -0.775396     -0.804203   -0.777501 -0.831741   \n",
       "cylinders    -0.775396   1.000000      0.950721    0.842437  0.896017   \n",
       "displacement -0.804203   0.950721      1.000000    0.897082  0.932824   \n",
       "horsepower   -0.777501   0.842437      0.897082    1.000000  0.863990   \n",
       "weight       -0.831741   0.896017      0.932824    0.863990  1.000000   \n",
       "acceleration  0.420289  -0.505419     -0.543684   -0.686436 -0.417457   \n",
       "model year    0.579267  -0.348746     -0.370164   -0.417081 -0.306564   \n",
       "origin        0.563450  -0.562543     -0.609409   -0.452386 -0.581024   \n",
       "\n",
       "              acceleration  model year    origin  \n",
       "mpg               0.420289    0.579267  0.563450  \n",
       "cylinders        -0.505419   -0.348746 -0.562543  \n",
       "displacement     -0.543684   -0.370164 -0.609409  \n",
       "horsepower       -0.686436   -0.417081 -0.452386  \n",
       "weight           -0.417457   -0.306564 -0.581024  \n",
       "acceleration      1.000000    0.288137  0.205873  \n",
       "model year        0.288137    1.000000  0.180662  \n",
       "origin            0.205873    0.180662  1.000000  "
      ]
     },
     "execution_count": 121,
     "metadata": {},
     "output_type": "execute_result"
    }
   ],
   "source": [
    "corr_table=dataset.corr()#Pandas dataframe.corr() is used to find the pairwise correlation of all columns in the dataframe. \n",
    "corr_table"
   ]
  },
  {
   "cell_type": "markdown",
   "metadata": {
    "id": "On4CgZJqj3hz"
   },
   "source": [
    "# Seperating into Dependent and Independent variables"
   ]
  },
  {
   "cell_type": "markdown",
   "metadata": {
    "id": "aARSFzfpj3hz"
   },
   "source": [
    "<b>Independent variables</b>"
   ]
  },
  {
   "cell_type": "code",
   "execution_count": 122,
   "metadata": {
    "colab": {
     "base_uri": "https://localhost:8080/"
    },
    "id": "4gt3X18wj3hz",
    "outputId": "009a862d-ceb0-4ddd-a157-e1eab15be728",
    "scrolled": true
   },
   "outputs": [
    {
     "data": {
      "text/plain": [
       "array([[  8. , 307. , 130. , ...,  12. ,  70. ,   1. ],\n",
       "       [  8. , 350. , 165. , ...,  11.5,  70. ,   1. ],\n",
       "       [  8. , 318. , 150. , ...,  11. ,  70. ,   1. ],\n",
       "       ...,\n",
       "       [  4. , 135. ,  84. , ...,  11.6,  82. ,   1. ],\n",
       "       [  4. , 120. ,  79. , ...,  18.6,  82. ,   1. ],\n",
       "       [  4. , 119. ,  82. , ...,  19.4,  82. ,   1. ]])"
      ]
     },
     "execution_count": 122,
     "metadata": {},
     "output_type": "execute_result"
    }
   ],
   "source": [
    "x=dataset[['cylinders','displacement','horsepower','weight','acceleration','model year','origin']].values\n",
    "x"
   ]
  },
  {
   "cell_type": "markdown",
   "metadata": {
    "id": "6-8p7TV1j3hz"
   },
   "source": [
    "<b>Dependent variables</b>"
   ]
  },
  {
   "cell_type": "code",
   "execution_count": 123,
   "metadata": {
    "colab": {
     "base_uri": "https://localhost:8080/"
    },
    "id": "yaHAt8A-j3hz",
    "outputId": "aac1786d-11a4-4f3c-9315-f211b98ac292"
   },
   "outputs": [
    {
     "data": {
      "text/plain": [
       "array([[18. ],\n",
       "       [15. ],\n",
       "       [18. ],\n",
       "       [16. ],\n",
       "       [17. ],\n",
       "       [15. ],\n",
       "       [14. ],\n",
       "       [14. ],\n",
       "       [14. ],\n",
       "       [15. ],\n",
       "       [15. ],\n",
       "       [14. ],\n",
       "       [15. ],\n",
       "       [14. ],\n",
       "       [24. ],\n",
       "       [22. ],\n",
       "       [18. ],\n",
       "       [21. ],\n",
       "       [27. ],\n",
       "       [26. ],\n",
       "       [25. ],\n",
       "       [24. ],\n",
       "       [25. ],\n",
       "       [26. ],\n",
       "       [21. ],\n",
       "       [10. ],\n",
       "       [10. ],\n",
       "       [11. ],\n",
       "       [ 9. ],\n",
       "       [27. ],\n",
       "       [28. ],\n",
       "       [25. ],\n",
       "       [25. ],\n",
       "       [19. ],\n",
       "       [16. ],\n",
       "       [17. ],\n",
       "       [19. ],\n",
       "       [18. ],\n",
       "       [14. ],\n",
       "       [14. ],\n",
       "       [14. ],\n",
       "       [14. ],\n",
       "       [12. ],\n",
       "       [13. ],\n",
       "       [13. ],\n",
       "       [18. ],\n",
       "       [22. ],\n",
       "       [19. ],\n",
       "       [18. ],\n",
       "       [23. ],\n",
       "       [28. ],\n",
       "       [30. ],\n",
       "       [30. ],\n",
       "       [31. ],\n",
       "       [35. ],\n",
       "       [27. ],\n",
       "       [26. ],\n",
       "       [24. ],\n",
       "       [25. ],\n",
       "       [23. ],\n",
       "       [20. ],\n",
       "       [21. ],\n",
       "       [13. ],\n",
       "       [14. ],\n",
       "       [15. ],\n",
       "       [14. ],\n",
       "       [17. ],\n",
       "       [11. ],\n",
       "       [13. ],\n",
       "       [12. ],\n",
       "       [13. ],\n",
       "       [19. ],\n",
       "       [15. ],\n",
       "       [13. ],\n",
       "       [13. ],\n",
       "       [14. ],\n",
       "       [18. ],\n",
       "       [22. ],\n",
       "       [21. ],\n",
       "       [26. ],\n",
       "       [22. ],\n",
       "       [28. ],\n",
       "       [23. ],\n",
       "       [28. ],\n",
       "       [27. ],\n",
       "       [13. ],\n",
       "       [14. ],\n",
       "       [13. ],\n",
       "       [14. ],\n",
       "       [15. ],\n",
       "       [12. ],\n",
       "       [13. ],\n",
       "       [13. ],\n",
       "       [14. ],\n",
       "       [13. ],\n",
       "       [12. ],\n",
       "       [13. ],\n",
       "       [18. ],\n",
       "       [16. ],\n",
       "       [18. ],\n",
       "       [18. ],\n",
       "       [23. ],\n",
       "       [26. ],\n",
       "       [11. ],\n",
       "       [12. ],\n",
       "       [13. ],\n",
       "       [12. ],\n",
       "       [18. ],\n",
       "       [20. ],\n",
       "       [21. ],\n",
       "       [22. ],\n",
       "       [18. ],\n",
       "       [19. ],\n",
       "       [21. ],\n",
       "       [26. ],\n",
       "       [15. ],\n",
       "       [16. ],\n",
       "       [29. ],\n",
       "       [24. ],\n",
       "       [20. ],\n",
       "       [19. ],\n",
       "       [15. ],\n",
       "       [24. ],\n",
       "       [20. ],\n",
       "       [11. ],\n",
       "       [20. ],\n",
       "       [21. ],\n",
       "       [19. ],\n",
       "       [15. ],\n",
       "       [31. ],\n",
       "       [26. ],\n",
       "       [32. ],\n",
       "       [25. ],\n",
       "       [16. ],\n",
       "       [16. ],\n",
       "       [18. ],\n",
       "       [16. ],\n",
       "       [13. ],\n",
       "       [14. ],\n",
       "       [14. ],\n",
       "       [14. ],\n",
       "       [29. ],\n",
       "       [26. ],\n",
       "       [26. ],\n",
       "       [31. ],\n",
       "       [32. ],\n",
       "       [28. ],\n",
       "       [24. ],\n",
       "       [26. ],\n",
       "       [24. ],\n",
       "       [26. ],\n",
       "       [31. ],\n",
       "       [19. ],\n",
       "       [18. ],\n",
       "       [15. ],\n",
       "       [15. ],\n",
       "       [16. ],\n",
       "       [15. ],\n",
       "       [16. ],\n",
       "       [14. ],\n",
       "       [17. ],\n",
       "       [16. ],\n",
       "       [15. ],\n",
       "       [18. ],\n",
       "       [21. ],\n",
       "       [20. ],\n",
       "       [13. ],\n",
       "       [29. ],\n",
       "       [23. ],\n",
       "       [20. ],\n",
       "       [23. ],\n",
       "       [24. ],\n",
       "       [25. ],\n",
       "       [24. ],\n",
       "       [18. ],\n",
       "       [29. ],\n",
       "       [19. ],\n",
       "       [23. ],\n",
       "       [23. ],\n",
       "       [22. ],\n",
       "       [25. ],\n",
       "       [33. ],\n",
       "       [28. ],\n",
       "       [25. ],\n",
       "       [25. ],\n",
       "       [26. ],\n",
       "       [27. ],\n",
       "       [17.5],\n",
       "       [16. ],\n",
       "       [15.5],\n",
       "       [14.5],\n",
       "       [22. ],\n",
       "       [22. ],\n",
       "       [24. ],\n",
       "       [22.5],\n",
       "       [29. ],\n",
       "       [24.5],\n",
       "       [29. ],\n",
       "       [33. ],\n",
       "       [20. ],\n",
       "       [18. ],\n",
       "       [18.5],\n",
       "       [17.5],\n",
       "       [29.5],\n",
       "       [32. ],\n",
       "       [28. ],\n",
       "       [26.5],\n",
       "       [20. ],\n",
       "       [13. ],\n",
       "       [19. ],\n",
       "       [19. ],\n",
       "       [16.5],\n",
       "       [16.5],\n",
       "       [13. ],\n",
       "       [13. ],\n",
       "       [13. ],\n",
       "       [31.5],\n",
       "       [30. ],\n",
       "       [36. ],\n",
       "       [25.5],\n",
       "       [33.5],\n",
       "       [17.5],\n",
       "       [17. ],\n",
       "       [15.5],\n",
       "       [15. ],\n",
       "       [17.5],\n",
       "       [20.5],\n",
       "       [19. ],\n",
       "       [18.5],\n",
       "       [16. ],\n",
       "       [15.5],\n",
       "       [15.5],\n",
       "       [16. ],\n",
       "       [29. ],\n",
       "       [24.5],\n",
       "       [26. ],\n",
       "       [25.5],\n",
       "       [30.5],\n",
       "       [33.5],\n",
       "       [30. ],\n",
       "       [30.5],\n",
       "       [22. ],\n",
       "       [21.5],\n",
       "       [21.5],\n",
       "       [43.1],\n",
       "       [36.1],\n",
       "       [32.8],\n",
       "       [39.4],\n",
       "       [36.1],\n",
       "       [19.9],\n",
       "       [19.4],\n",
       "       [20.2],\n",
       "       [19.2],\n",
       "       [20.5],\n",
       "       [20.2],\n",
       "       [25.1],\n",
       "       [20.5],\n",
       "       [19.4],\n",
       "       [20.6],\n",
       "       [20.8],\n",
       "       [18.6],\n",
       "       [18.1],\n",
       "       [19.2],\n",
       "       [17.7],\n",
       "       [18.1],\n",
       "       [17.5],\n",
       "       [30. ],\n",
       "       [27.5],\n",
       "       [27.2],\n",
       "       [30.9],\n",
       "       [21.1],\n",
       "       [23.2],\n",
       "       [23.8],\n",
       "       [23.9],\n",
       "       [20.3],\n",
       "       [17. ],\n",
       "       [21.6],\n",
       "       [16.2],\n",
       "       [31.5],\n",
       "       [29.5],\n",
       "       [21.5],\n",
       "       [19.8],\n",
       "       [22.3],\n",
       "       [20.2],\n",
       "       [20.6],\n",
       "       [17. ],\n",
       "       [17.6],\n",
       "       [16.5],\n",
       "       [18.2],\n",
       "       [16.9],\n",
       "       [15.5],\n",
       "       [19.2],\n",
       "       [18.5],\n",
       "       [31.9],\n",
       "       [34.1],\n",
       "       [35.7],\n",
       "       [27.4],\n",
       "       [25.4],\n",
       "       [23. ],\n",
       "       [27.2],\n",
       "       [23.9],\n",
       "       [34.2],\n",
       "       [34.5],\n",
       "       [31.8],\n",
       "       [37.3],\n",
       "       [28.4],\n",
       "       [28.8],\n",
       "       [26.8],\n",
       "       [33.5],\n",
       "       [41.5],\n",
       "       [38.1],\n",
       "       [32.1],\n",
       "       [37.2],\n",
       "       [28. ],\n",
       "       [26.4],\n",
       "       [24.3],\n",
       "       [19.1],\n",
       "       [34.3],\n",
       "       [29.8],\n",
       "       [31.3],\n",
       "       [37. ],\n",
       "       [32.2],\n",
       "       [46.6],\n",
       "       [27.9],\n",
       "       [40.8],\n",
       "       [44.3],\n",
       "       [43.4],\n",
       "       [36.4],\n",
       "       [30. ],\n",
       "       [44.6],\n",
       "       [40.9],\n",
       "       [33.8],\n",
       "       [29.8],\n",
       "       [32.7],\n",
       "       [23.7],\n",
       "       [35. ],\n",
       "       [23.6],\n",
       "       [32.4],\n",
       "       [27.2],\n",
       "       [26.6],\n",
       "       [25.8],\n",
       "       [23.5],\n",
       "       [30. ],\n",
       "       [39.1],\n",
       "       [39. ],\n",
       "       [35.1],\n",
       "       [32.3],\n",
       "       [37. ],\n",
       "       [37.7],\n",
       "       [34.1],\n",
       "       [34.7],\n",
       "       [34.4],\n",
       "       [29.9],\n",
       "       [33. ],\n",
       "       [34.5],\n",
       "       [33.7],\n",
       "       [32.4],\n",
       "       [32.9],\n",
       "       [31.6],\n",
       "       [28.1],\n",
       "       [30.7],\n",
       "       [25.4],\n",
       "       [24.2],\n",
       "       [22.4],\n",
       "       [26.6],\n",
       "       [20.2],\n",
       "       [17.6],\n",
       "       [28. ],\n",
       "       [27. ],\n",
       "       [34. ],\n",
       "       [31. ],\n",
       "       [29. ],\n",
       "       [27. ],\n",
       "       [24. ],\n",
       "       [23. ],\n",
       "       [36. ],\n",
       "       [37. ],\n",
       "       [31. ],\n",
       "       [38. ],\n",
       "       [36. ],\n",
       "       [36. ],\n",
       "       [36. ],\n",
       "       [34. ],\n",
       "       [38. ],\n",
       "       [32. ],\n",
       "       [38. ],\n",
       "       [25. ],\n",
       "       [38. ],\n",
       "       [26. ],\n",
       "       [22. ],\n",
       "       [32. ],\n",
       "       [36. ],\n",
       "       [27. ],\n",
       "       [27. ],\n",
       "       [44. ],\n",
       "       [32. ],\n",
       "       [28. ],\n",
       "       [31. ]])"
      ]
     },
     "execution_count": 123,
     "metadata": {},
     "output_type": "execute_result"
    }
   ],
   "source": [
    "y=dataset.iloc[:,0:1].values\n",
    "y"
   ]
  },
  {
   "cell_type": "markdown",
   "metadata": {
    "id": "GQpVTYchj3hz"
   },
   "source": [
    "# Splitting into train and test data."
   ]
  },
  {
   "cell_type": "code",
   "execution_count": 124,
   "metadata": {
    "id": "MAEd1gGJj3hz"
   },
   "outputs": [],
   "source": [
    "from sklearn.model_selection import train_test_split"
   ]
  },
  {
   "cell_type": "code",
   "execution_count": 125,
   "metadata": {
    "id": "9Y2XzYMRj3hz"
   },
   "outputs": [],
   "source": [
    "x_train,x_test,y_train,y_test=train_test_split(x,y,test_size=0.1,random_state=0)"
   ]
  },
  {
   "cell_type": "markdown",
   "metadata": {
    "id": "Q_uArruCigaQ"
   },
   "source": [
    "# Normalisation"
   ]
  },
  {
   "cell_type": "code",
   "execution_count": 126,
   "metadata": {
    "id": "Hjy0cVXGilDt"
   },
   "outputs": [
    {
     "data": {
      "text/plain": [
       "array([[ 1.46858608,  2.48230464,  2.97979869, ..., -2.37109405,\n",
       "        -1.61295698, -0.71873488],\n",
       "       [ 1.46858608,  1.48729292,  1.55782064, ..., -1.46292048,\n",
       "        -1.61295698, -0.71873488],\n",
       "       [-0.86550411, -0.70364636, -0.63978179, ..., -0.19147749,\n",
       "         0.82235108, -0.71873488],\n",
       "       ...,\n",
       "       [-0.86550411, -1.21071964, -1.44126033, ...,  1.44323493,\n",
       "        -0.80118763,  0.53032865],\n",
       "       [ 0.30154098,  0.53055088, -0.12269887, ..., -0.19147749,\n",
       "        -1.3423672 , -0.71873488],\n",
       "       [-0.86550411, -1.00023639, -0.87246911, ...,  0.35342665,\n",
       "        -0.26000806,  0.53032865]])"
      ]
     },
     "execution_count": 126,
     "metadata": {},
     "output_type": "execute_result"
    }
   ],
   "source": [
    "from sklearn.preprocessing import StandardScaler\n",
    "sd = StandardScaler()\n",
    "\n",
    "x_train = sd.fit_transform(x_train)\n",
    "x_test = sd.fit_transform(x_test)\n",
    "y_train = sd.fit_transform(y_train)\n",
    "y_test = sd.fit_transform(y_test)\n",
    "\n",
    "x_train\n"
   ]
  },
  {
   "cell_type": "code",
   "execution_count": 127,
   "metadata": {},
   "outputs": [],
   "source": [
    "#TRAINING THE MODEL\n",
    "\n",
    "from sklearn.ensemble import RandomForestRegressor\n",
    "\n",
    "r = RandomForestRegressor(n_estimators = 100, random_state = 0) \n",
    "r.fit(x_train, y_train.ravel())\n",
    "y_pred = r.predict(x_test)"
   ]
  },
  {
   "cell_type": "code",
   "execution_count": 128,
   "metadata": {},
   "outputs": [
    {
     "data": {
      "text/plain": [
       "0.9231246807234993"
      ]
     },
     "execution_count": 128,
     "metadata": {},
     "output_type": "execute_result"
    }
   ],
   "source": [
    "#SCORING THE MODEL\n",
    "\n",
    "import sklearn.metrics as mt\n",
    "accuracy = mt.r2_score(y_test, y_pred)\n",
    "accuracy"
   ]
  },
  {
   "cell_type": "code",
   "execution_count": 129,
   "metadata": {},
   "outputs": [
    {
     "name": "stdout",
     "output_type": "stream",
     "text": [
      "Requirement already satisfied: ibm_watson_machine_learning in /opt/conda/envs/Python-3.9/lib/python3.9/site-packages (1.0.257)\n",
      "Requirement already satisfied: tabulate in /opt/conda/envs/Python-3.9/lib/python3.9/site-packages (from ibm_watson_machine_learning) (0.8.9)\n",
      "Requirement already satisfied: urllib3 in /opt/conda/envs/Python-3.9/lib/python3.9/site-packages (from ibm_watson_machine_learning) (1.26.7)\n",
      "Requirement already satisfied: ibm-cos-sdk==2.11.* in /opt/conda/envs/Python-3.9/lib/python3.9/site-packages (from ibm_watson_machine_learning) (2.11.0)\n",
      "Requirement already satisfied: pandas<1.5.0,>=0.24.2 in /opt/conda/envs/Python-3.9/lib/python3.9/site-packages (from ibm_watson_machine_learning) (1.3.4)\n",
      "Requirement already satisfied: packaging in /opt/conda/envs/Python-3.9/lib/python3.9/site-packages (from ibm_watson_machine_learning) (21.3)\n",
      "Requirement already satisfied: requests in /opt/conda/envs/Python-3.9/lib/python3.9/site-packages (from ibm_watson_machine_learning) (2.26.0)\n",
      "Requirement already satisfied: lomond in /opt/conda/envs/Python-3.9/lib/python3.9/site-packages (from ibm_watson_machine_learning) (0.3.3)\n",
      "Requirement already satisfied: certifi in /opt/conda/envs/Python-3.9/lib/python3.9/site-packages (from ibm_watson_machine_learning) (2022.9.24)\n",
      "Requirement already satisfied: importlib-metadata in /opt/conda/envs/Python-3.9/lib/python3.9/site-packages (from ibm_watson_machine_learning) (4.8.2)\n",
      "Requirement already satisfied: jmespath<1.0.0,>=0.7.1 in /opt/conda/envs/Python-3.9/lib/python3.9/site-packages (from ibm-cos-sdk==2.11.*->ibm_watson_machine_learning) (0.10.0)\n",
      "Requirement already satisfied: ibm-cos-sdk-s3transfer==2.11.0 in /opt/conda/envs/Python-3.9/lib/python3.9/site-packages (from ibm-cos-sdk==2.11.*->ibm_watson_machine_learning) (2.11.0)\n",
      "Requirement already satisfied: ibm-cos-sdk-core==2.11.0 in /opt/conda/envs/Python-3.9/lib/python3.9/site-packages (from ibm-cos-sdk==2.11.*->ibm_watson_machine_learning) (2.11.0)\n",
      "Requirement already satisfied: python-dateutil<3.0.0,>=2.1 in /opt/conda/envs/Python-3.9/lib/python3.9/site-packages (from ibm-cos-sdk-core==2.11.0->ibm-cos-sdk==2.11.*->ibm_watson_machine_learning) (2.8.2)\n",
      "Requirement already satisfied: pytz>=2017.3 in /opt/conda/envs/Python-3.9/lib/python3.9/site-packages (from pandas<1.5.0,>=0.24.2->ibm_watson_machine_learning) (2021.3)\n",
      "Requirement already satisfied: numpy>=1.17.3 in /opt/conda/envs/Python-3.9/lib/python3.9/site-packages (from pandas<1.5.0,>=0.24.2->ibm_watson_machine_learning) (1.20.3)\n",
      "Requirement already satisfied: six>=1.5 in /opt/conda/envs/Python-3.9/lib/python3.9/site-packages (from python-dateutil<3.0.0,>=2.1->ibm-cos-sdk-core==2.11.0->ibm-cos-sdk==2.11.*->ibm_watson_machine_learning) (1.15.0)\n",
      "Requirement already satisfied: charset-normalizer~=2.0.0 in /opt/conda/envs/Python-3.9/lib/python3.9/site-packages (from requests->ibm_watson_machine_learning) (2.0.4)\n",
      "Requirement already satisfied: idna<4,>=2.5 in /opt/conda/envs/Python-3.9/lib/python3.9/site-packages (from requests->ibm_watson_machine_learning) (3.3)\n",
      "Requirement already satisfied: zipp>=0.5 in /opt/conda/envs/Python-3.9/lib/python3.9/site-packages (from importlib-metadata->ibm_watson_machine_learning) (3.6.0)\n",
      "Requirement already satisfied: pyparsing!=3.0.5,>=2.0.2 in /opt/conda/envs/Python-3.9/lib/python3.9/site-packages (from packaging->ibm_watson_machine_learning) (3.0.4)\n"
     ]
    }
   ],
   "source": [
    "!pip install ibm_watson_machine_learning"
   ]
  },
  {
   "cell_type": "code",
   "execution_count": 130,
   "metadata": {},
   "outputs": [],
   "source": [
    "from ibm_watson_machine_learning import APIClient\n",
    "wml_cred = {\n",
    "    'url': 'https://us-south.ml.cloud.ibm.com',\n",
    "    'apikey': 'hS4CGi9PpGEJH4LVNkKH9oys9lA0dughL6i0Sxm2bmh6'\n",
    "}\n",
    "client = APIClient(wml_cred)"
   ]
  },
  {
   "cell_type": "code",
   "execution_count": 131,
   "metadata": {},
   "outputs": [],
   "source": [
    "def get_space(client, space_name):\n",
    "    space = client.spaces.get_details()\n",
    "    return(next(item for item in space['resources'] if item['entity']['name'] == space_name)['metadata']['id'])"
   ]
  },
  {
   "cell_type": "code",
   "execution_count": 132,
   "metadata": {},
   "outputs": [
    {
     "data": {
      "text/plain": [
       "'ed52c942-4882-486a-86a6-8e492074cae8'"
      ]
     },
     "execution_count": 132,
     "metadata": {},
     "output_type": "execute_result"
    }
   ],
   "source": [
    "space_uid = get_space(client, 'IBM project')\n",
    "client.set.default_space(space_uid)\n",
    "space_uid"
   ]
  },
  {
   "cell_type": "code",
   "execution_count": 133,
   "metadata": {},
   "outputs": [
    {
     "data": {
      "text/plain": [
       "'12b83a17-24d8-5082-900f-0ab31fbfd3cb'"
      ]
     },
     "execution_count": 133,
     "metadata": {},
     "output_type": "execute_result"
    }
   ],
   "source": [
    "software_spec_uid = client.software_specifications.get_uid_by_name(\"runtime-22.1-py3.9\")\n",
    "software_spec_uid"
   ]
  },
  {
   "cell_type": "code",
   "execution_count": 134,
   "metadata": {},
   "outputs": [
    {
     "name": "stdout",
     "output_type": "stream",
     "text": [
      "99addf54-d3fe-42f4-adc8-460cf7fc2dd6\n"
     ]
    }
   ],
   "source": [
    "meta_props = {\n",
    "    client.repository.ModelMetaNames.NAME: \"ML_model\",\n",
    "    client.repository.ModelMetaNames.SOFTWARE_SPEC_UID: software_spec_uid,\n",
    "    client.repository.ModelMetaNames.TYPE: \"scikit-learn_1.0\"}\n",
    "\n",
    "stored_model = client.repository.store_model(model=r, meta_props=meta_props)\n",
    "\n",
    "model_id = client.repository.get_model_id(stored_model)\n",
    "print(model_id)"
   ]
  },
  {
   "cell_type": "code",
   "execution_count": null,
   "metadata": {},
   "outputs": [],
   "source": []
  }
 ],
 "metadata": {
  "accelerator": "GPU",
  "colab": {
   "provenance": [],
   "toc_visible": true
  },
  "gpuClass": "standard",
  "kernelspec": {
   "display_name": "Python 3 (ipykernel)",
   "language": "python",
   "name": "python3"
  },
  "language_info": {
   "codemirror_mode": {
    "name": "ipython",
    "version": 3
   },
   "file_extension": ".py",
   "mimetype": "text/x-python",
   "name": "python",
   "nbconvert_exporter": "python",
   "pygments_lexer": "ipython3",
   "version": "3.9.7"
  }
 },
 "nbformat": 4,
 "nbformat_minor": 1
}
